{
 "cells": [
  {
   "cell_type": "code",
   "execution_count": null,
   "metadata": {
    "collapsed": false
   },
   "outputs": [
    {
     "name": "stderr",
     "output_type": "stream",
     "text": [
      "/opt/conda/envs/python35-paddle120-env/lib/python3.7/site-packages/paddle/fluid/layers/utils.py:26: DeprecationWarning: `np.int` is a deprecated alias for the builtin `int`. To silence this warning, use `int` by itself. Doing this will not modify any behavior and is safe. When replacing `np.int`, you may wish to use e.g. `np.int64` or `np.int32` to specify the precision. If you wish to review your current use, check the release note link for additional information.\n",
      "Deprecated in NumPy 1.20; for more details and guidance: https://numpy.org/devdocs/release/1.20.0-notes.html#deprecations\n",
      "  def convert_to_list(value, n, name, dtype=np.int):\n",
      "/opt/conda/envs/python35-paddle120-env/lib/python3.7/site-packages/matplotlib/__init__.py:107: DeprecationWarning: Using or importing the ABCs from 'collections' instead of from 'collections.abc' is deprecated, and in 3.8 it will stop working\n",
      "  from collections import MutableMapping\n",
      "/opt/conda/envs/python35-paddle120-env/lib/python3.7/site-packages/matplotlib/rcsetup.py:20: DeprecationWarning: Using or importing the ABCs from 'collections' instead of from 'collections.abc' is deprecated, and in 3.8 it will stop working\n",
      "  from collections import Iterable, Mapping\n",
      "/opt/conda/envs/python35-paddle120-env/lib/python3.7/site-packages/matplotlib/colors.py:53: DeprecationWarning: Using or importing the ABCs from 'collections' instead of from 'collections.abc' is deprecated, and in 3.8 it will stop working\n",
      "  from collections import Sized\n",
      "2021-05-26 19:47:32,299 - INFO - font search path ['/opt/conda/envs/python35-paddle120-env/lib/python3.7/site-packages/matplotlib/mpl-data/fonts/ttf', '/opt/conda/envs/python35-paddle120-env/lib/python3.7/site-packages/matplotlib/mpl-data/fonts/afm', '/opt/conda/envs/python35-paddle120-env/lib/python3.7/site-packages/matplotlib/mpl-data/fonts/pdfcorefonts']\n",
      "2021-05-26 19:47:32,656 - INFO - generated new fontManager\n"
     ]
    }
   ],
   "source": [
    "import paddle\n",
    "import matplotlib.pyplot as plt\n",
    "import numpy as np\n",
    "import paddle.nn.functional as F\n",
    "import paddle.vision.datasets as dset\n",
    "import paddle\n",
    "from paddle.vision.transforms import Compose, ToTensor, RandomCrop, RandomHorizontalFlip, Normalize \n",
    "from paddle.nn import Sequential, Conv2D, MaxPool2D, Flatten, Linear, BatchNorm2D, Dropout, ReLU\n",
    "from paddle.io import DataLoader"
   ]
  },
  {
   "cell_type": "code",
   "execution_count": null,
   "metadata": {
    "collapsed": false
   },
   "outputs": [
    {
     "name": "stderr",
     "output_type": "stream",
     "text": [
      "Cache file /home/aistudio/.cache/paddle/dataset/cifar/cifar-10-python.tar.gz not found, downloading https://dataset.bj.bcebos.com/cifar/cifar-10-python.tar.gz \n",
      "Begin to download\n",
      "\n",
      "Download finished\n"
     ]
    }
   ],
   "source": [
    "# 加载飞桨内置cifar10数据集\n",
    "# 转换为tensor格式\n",
    "transform_train = Compose([\n",
    "    RandomCrop(32, padding=4),\n",
    "    RandomHorizontalFlip(),\n",
    "    ToTensor(),\n",
    "    Normalize((0.4914, 0.4822, 0.4465), (0.2023, 0.1994, 0.2010))\n",
    "])\n",
    "transform_test = Compose([\n",
    "    ToTensor(),\n",
    "    Normalize((0.4914, 0.4822, 0.4465), (0.2023, 0.1994, 0.2010))\n",
    "])\n",
    "# 定义训练集\n",
    "cifar10_train = dset.Cifar10(\n",
    "    mode='train',\n",
    "    transform=transform_train\n",
    ")\n",
    "# 定义测试集\n",
    "cifar10_valid = dset.Cifar10(\n",
    "    mode='test',\n",
    "    transform=transform_test\n",
    ")"
   ]
  },
  {
   "cell_type": "code",
   "execution_count": null,
   "metadata": {
    "collapsed": false
   },
   "outputs": [],
   "source": [
    "# class Cnet(paddle.nn.Layer):\n",
    "#     def __init__(self):\n",
    "#         super(Cnet, self).__init__()\n",
    "#         # 搭建卷积神经网络\n",
    "#         self.classify = Sequential(\n",
    "#             # 卷积层（一）\n",
    "#             Conv2D(3, 64, 3, 1, 2),  # 卷积操作 [3, 32, 32] -> [64, 34, 34]   \n",
    "#             BatchNorm2D(64),  # 批归一化\n",
    "#             ReLU(),  # 激活函数\n",
    "#             MaxPool2D(2, 2),  # 池化操作 [64, 34, 34] -> [64, 17, 17]\n",
    "#             # 卷积层（二）\n",
    "#             Conv2D(64, 128, 3, 1, 2),  # 卷积操作 [64, 17, 17] -> [128, 19, 19]\n",
    "#             BatchNorm2D(128), \n",
    "#             ReLU(), \n",
    "#             MaxPool2D(2, 2),  # 池化操作 [128, 19, 19] -> [128, 9, 9]\n",
    "#             # 卷积层（三）\n",
    "#             Conv2D(128, 256, 3, 1, 1),  # 卷积操作 [128, 9, 9] -> [256, 9, 9]\n",
    "#             BatchNorm2D(256), \n",
    "#             ReLU(), \n",
    "#             MaxPool2D(2, 2),  # 池化操作 [256, 9, 9] -> [256, 4, 4]\n",
    "#             # 卷积层（四）\n",
    "#             Conv2D(256, 512, 3, 1, 1),  # 卷积操作 [256, 4, 4] -> [512, 4, 4]\n",
    "#             BatchNorm2D(512), \n",
    "#             ReLU(), \n",
    "#             MaxPool2D(2, 2),  # 池化操作 [512, 4, 4] -> [512, 2, 2]\n",
    "#             # 铺平\n",
    "#             Flatten(),  # [512, 2, 2] -> [512 * 2 * 2] -> [2048]\n",
    "#             # 全联接层（一）\n",
    "#             Linear(2048, 1024),  # [2048] -> [1024]\n",
    "#             ReLU(),\n",
    "#             Dropout(p=0.5),  # 正则化\n",
    "#             # 全联接层（二）\n",
    "#             Linear(1024,512),  # [1024] -> [512]\n",
    "#             ReLU(),\n",
    "#             Dropout(p=0.5),\n",
    "#             # 全连接层（三）\n",
    "#             Linear(512,10)  # [512] -> [10]\n",
    "#         )\n",
    "#     # 定义神经网络的前向计算过程\n",
    "#     def forward(self, x):\n",
    "#         return self.classify(x)\n",
    "    \n"
   ]
  },
  {
   "cell_type": "code",
   "execution_count": null,
   "metadata": {
    "collapsed": false
   },
   "outputs": [],
   "source": [
    "class ResidualBlock(paddle.nn.Layer):\n",
    "    def __init__(self, inchannel, outchannel, stride=1):\n",
    "        super(ResidualBlock, self).__init__()\n",
    "        self.left = Sequential(\n",
    "            Conv2D(inchannel, outchannel, kernel_size=3, stride=stride, padding=1, bias_attr=False),\n",
    "            BatchNorm2D(outchannel),\n",
    "            ReLU(),\n",
    "            Conv2D(outchannel, outchannel, kernel_size=3, stride=1, padding=1, bias_attr=False),\n",
    "            BatchNorm2D(outchannel)\n",
    "        )\n",
    "        self.shortcut = Sequential()\n",
    "        if stride != 1 or inchannel != outchannel:\n",
    "            self.shortcut = Sequential(\n",
    "                Conv2D(inchannel, outchannel, kernel_size=1, stride=stride, bias_attr=False),\n",
    "                BatchNorm2D(outchannel)\n",
    "            )\n",
    "\n",
    "    def forward(self, x):\n",
    "        out = self.left(x)\n",
    "        out += self.shortcut(x)\n",
    "        out = F.relu(out)\n",
    "        return out\n",
    "\n",
    "class ResNet(paddle.nn.Layer):\n",
    "    def __init__(self, ResidualBlock, num_classes=10):\n",
    "        super(ResNet, self).__init__()\n",
    "        self.inchannel = 64\n",
    "        self.conv1 = Sequential(\n",
    "            Conv2D(3, 64, kernel_size=3, stride=1, padding=1, bias_attr=False),\n",
    "            BatchNorm2D(64),\n",
    "            ReLU(),\n",
    "        )\n",
    "        self.layer1 = self.make_layer(ResidualBlock, 64,  2, stride=1)\n",
    "        self.layer2 = self.make_layer(ResidualBlock, 128, 2, stride=2)\n",
    "        self.layer3 = self.make_layer(ResidualBlock, 256, 2, stride=2)\n",
    "        self.layer4 = self.make_layer(ResidualBlock, 512, 2, stride=2)\n",
    "        self.fc = Linear(512, num_classes)\n",
    "\n",
    "    def make_layer(self, block, channels, num_blocks, stride):\n",
    "        strides = [stride] + [1] * (num_blocks - 1)   \n",
    "        layers = []\n",
    "        for stride in strides:\n",
    "            layers.append(block(self.inchannel, channels, stride))\n",
    "            self.inchannel = channels\n",
    "        return Sequential(*layers)\n",
    "\n",
    "    def forward(self, x):\n",
    "        out = self.conv1(x)\n",
    "        out = self.layer1(out)\n",
    "        out = self.layer2(out)\n",
    "        out = self.layer3(out)\n",
    "        out = self.layer4(out)\n",
    "        out = F.avg_pool2d(out, 4)\n",
    "        out = paddle.reshape(out, [out.shape[0], -1])\n",
    "        out = self.fc(out)\n",
    "        return out\n",
    "\n",
    "def ResNet18():\n",
    "    return ResNet(ResidualBlock)"
   ]
  },
  {
   "cell_type": "code",
   "execution_count": null,
   "metadata": {
    "collapsed": false
   },
   "outputs": [
    {
     "name": "stdout",
     "output_type": "stream",
     "text": [
      "---------------------------------------------------------------------------\n",
      " Layer (type)       Input Shape          Output Shape         Param #    \n",
      "===========================================================================\n",
      "   Conv2D-1       [[1, 3, 32, 32]]     [1, 64, 32, 32]         1,728     \n",
      " BatchNorm2D-1   [[1, 64, 32, 32]]     [1, 64, 32, 32]          256      \n",
      "    ReLU-1       [[1, 64, 32, 32]]     [1, 64, 32, 32]           0       \n",
      "   Conv2D-2      [[1, 64, 32, 32]]     [1, 64, 32, 32]        36,864     \n",
      " BatchNorm2D-2   [[1, 64, 32, 32]]     [1, 64, 32, 32]          256      \n",
      "    ReLU-2       [[1, 64, 32, 32]]     [1, 64, 32, 32]           0       \n",
      "   Conv2D-3      [[1, 64, 32, 32]]     [1, 64, 32, 32]        36,864     \n",
      " BatchNorm2D-3   [[1, 64, 32, 32]]     [1, 64, 32, 32]          256      \n",
      "ResidualBlock-1  [[1, 64, 32, 32]]     [1, 64, 32, 32]           0       \n",
      "   Conv2D-4      [[1, 64, 32, 32]]     [1, 64, 32, 32]        36,864     \n",
      " BatchNorm2D-4   [[1, 64, 32, 32]]     [1, 64, 32, 32]          256      \n",
      "    ReLU-3       [[1, 64, 32, 32]]     [1, 64, 32, 32]           0       \n",
      "   Conv2D-5      [[1, 64, 32, 32]]     [1, 64, 32, 32]        36,864     \n",
      " BatchNorm2D-5   [[1, 64, 32, 32]]     [1, 64, 32, 32]          256      \n",
      "ResidualBlock-2  [[1, 64, 32, 32]]     [1, 64, 32, 32]           0       \n",
      "   Conv2D-6      [[1, 64, 32, 32]]     [1, 128, 16, 16]       73,728     \n",
      " BatchNorm2D-6   [[1, 128, 16, 16]]    [1, 128, 16, 16]         512      \n",
      "    ReLU-4       [[1, 128, 16, 16]]    [1, 128, 16, 16]          0       \n",
      "   Conv2D-7      [[1, 128, 16, 16]]    [1, 128, 16, 16]       147,456    \n",
      " BatchNorm2D-7   [[1, 128, 16, 16]]    [1, 128, 16, 16]         512      \n",
      "   Conv2D-8      [[1, 64, 32, 32]]     [1, 128, 16, 16]        8,192     \n",
      " BatchNorm2D-8   [[1, 128, 16, 16]]    [1, 128, 16, 16]         512      \n",
      "ResidualBlock-3  [[1, 64, 32, 32]]     [1, 128, 16, 16]          0       \n",
      "   Conv2D-9      [[1, 128, 16, 16]]    [1, 128, 16, 16]       147,456    \n",
      " BatchNorm2D-9   [[1, 128, 16, 16]]    [1, 128, 16, 16]         512      \n",
      "    ReLU-5       [[1, 128, 16, 16]]    [1, 128, 16, 16]          0       \n",
      "   Conv2D-10     [[1, 128, 16, 16]]    [1, 128, 16, 16]       147,456    \n",
      "BatchNorm2D-10   [[1, 128, 16, 16]]    [1, 128, 16, 16]         512      \n",
      "ResidualBlock-4  [[1, 128, 16, 16]]    [1, 128, 16, 16]          0       \n",
      "   Conv2D-11     [[1, 128, 16, 16]]     [1, 256, 8, 8]        294,912    \n",
      "BatchNorm2D-11    [[1, 256, 8, 8]]      [1, 256, 8, 8]         1,024     \n",
      "    ReLU-6        [[1, 256, 8, 8]]      [1, 256, 8, 8]           0       \n",
      "   Conv2D-12      [[1, 256, 8, 8]]      [1, 256, 8, 8]        589,824    \n",
      "BatchNorm2D-12    [[1, 256, 8, 8]]      [1, 256, 8, 8]         1,024     \n",
      "   Conv2D-13     [[1, 128, 16, 16]]     [1, 256, 8, 8]        32,768     \n",
      "BatchNorm2D-13    [[1, 256, 8, 8]]      [1, 256, 8, 8]         1,024     \n",
      "ResidualBlock-5  [[1, 128, 16, 16]]     [1, 256, 8, 8]           0       \n",
      "   Conv2D-14      [[1, 256, 8, 8]]      [1, 256, 8, 8]        589,824    \n",
      "BatchNorm2D-14    [[1, 256, 8, 8]]      [1, 256, 8, 8]         1,024     \n",
      "    ReLU-7        [[1, 256, 8, 8]]      [1, 256, 8, 8]           0       \n",
      "   Conv2D-15      [[1, 256, 8, 8]]      [1, 256, 8, 8]        589,824    \n",
      "BatchNorm2D-15    [[1, 256, 8, 8]]      [1, 256, 8, 8]         1,024     \n",
      "ResidualBlock-6   [[1, 256, 8, 8]]      [1, 256, 8, 8]           0       \n",
      "   Conv2D-16      [[1, 256, 8, 8]]      [1, 512, 4, 4]       1,179,648   \n",
      "BatchNorm2D-16    [[1, 512, 4, 4]]      [1, 512, 4, 4]         2,048     \n",
      "    ReLU-8        [[1, 512, 4, 4]]      [1, 512, 4, 4]           0       \n",
      "   Conv2D-17      [[1, 512, 4, 4]]      [1, 512, 4, 4]       2,359,296   \n",
      "BatchNorm2D-17    [[1, 512, 4, 4]]      [1, 512, 4, 4]         2,048     \n",
      "   Conv2D-18      [[1, 256, 8, 8]]      [1, 512, 4, 4]        131,072    \n",
      "BatchNorm2D-18    [[1, 512, 4, 4]]      [1, 512, 4, 4]         2,048     \n",
      "ResidualBlock-7   [[1, 256, 8, 8]]      [1, 512, 4, 4]           0       \n",
      "   Conv2D-19      [[1, 512, 4, 4]]      [1, 512, 4, 4]       2,359,296   \n",
      "BatchNorm2D-19    [[1, 512, 4, 4]]      [1, 512, 4, 4]         2,048     \n",
      "    ReLU-9        [[1, 512, 4, 4]]      [1, 512, 4, 4]           0       \n",
      "   Conv2D-20      [[1, 512, 4, 4]]      [1, 512, 4, 4]       2,359,296   \n",
      "BatchNorm2D-20    [[1, 512, 4, 4]]      [1, 512, 4, 4]         2,048     \n",
      "ResidualBlock-8   [[1, 512, 4, 4]]      [1, 512, 4, 4]           0       \n",
      "   Linear-1          [[1, 512]]            [1, 10]             5,130     \n",
      "===========================================================================\n",
      "Total params: 11,183,562\n",
      "Trainable params: 11,164,362\n",
      "Non-trainable params: 19,200\n",
      "---------------------------------------------------------------------------\n",
      "Input size (MB): 0.01\n",
      "Forward/backward pass size (MB): 13.63\n",
      "Params size (MB): 42.66\n",
      "Estimated Total Size (MB): 56.30\n",
      "---------------------------------------------------------------------------\n",
      "\n"
     ]
    },
    {
     "data": {
      "text/plain": [
       "{'total_params': 11183562, 'trainable_params': 11164362}"
      ]
     },
     "execution_count": null,
     "metadata": {},
     "output_type": "execute_result"
    }
   ],
   "source": [
    "model = ResNet18()\n",
    "paddle.summary(model, (1, 3, 32, 32))"
   ]
  },
  {
   "cell_type": "code",
   "execution_count": 8,
   "metadata": {
    "collapsed": false
   },
   "outputs": [],
   "source": [
    "# 训练模型 \n",
    "\n",
    "# 设置训练轮数\n",
    "epochs = 10\n",
    "# 设置批次数\n",
    "bats = 256\n",
    "# 用于存放accuracy的list\n",
    "val_acc = []\n",
    "# 用于存放loss的list\n",
    "val_loss = []\n",
    "\n",
    "def train(model):\n",
    "    use_gpu = True\n",
    "    paddle.set_device('gpu:0') if use_gpu else paddle.set_device('cpu')\n",
    "    print('start training ... ')\n",
    "    model.train()\n",
    "    # 定义Adam优化器\n",
    "    opt = paddle.optimizer.Adam(\n",
    "        learning_rate=0.0001,\n",
    "        parameters=model.parameters()\n",
    "    )\n",
    "    # 训练集加载器\n",
    "    train_loader = DataLoader(\n",
    "        cifar10_train,\n",
    "        shuffle=True,\n",
    "        batch_size=bats\n",
    "    )\n",
    "    # 验证集加载器\n",
    "    valid_loader = DataLoader(\n",
    "        cifar10_valid, \n",
    "        batch_size=bats\n",
    "    )\n",
    "    # 开始训练\n",
    "    for epoch in range(epochs):\n",
    "        for data in train_loader():\n",
    "            # 存放图像数据\n",
    "            x_data = data[0] \n",
    "            # 存放图像label，转换为tensor\n",
    "            y_data = paddle.to_tensor(data[1])\n",
    "            y_data = paddle.unsqueeze(y_data, 1)\n",
    "            # 训练预测结果\n",
    "            logits = model(x_data)\n",
    "            # softmax交叉熵损失函数\n",
    "            loss = F.cross_entropy(logits, y_data)\n",
    "            loss.backward()\n",
    "            opt.step()\n",
    "            opt.clear_grad()\n",
    "\n",
    "        # 模型评估\n",
    "        model.eval()\n",
    "        accuracies = []\n",
    "        losses = []\n",
    "        for data in valid_loader():\n",
    "            x_data = data[0]\n",
    "            y_data = paddle.to_tensor(data[1])\n",
    "            y_data = paddle.unsqueeze(y_data, 1)\n",
    "\n",
    "            logits = model(x_data)\n",
    "            loss = F.cross_entropy(logits, y_data)\n",
    "            acc = paddle.metric.accuracy(logits, y_data)\n",
    "            accuracies.append(acc.numpy())\n",
    "            losses.append(loss.numpy())\n",
    "\n",
    "        avg_acc, avg_loss = np.mean(accuracies), np.mean(losses)\n",
    "        print(\"epoch{} accuracy: {} loss: {}\".format(epoch, avg_acc, avg_loss))\n",
    "        val_acc.append(avg_acc)\n",
    "        val_loss.append(avg_loss)\n",
    "        model.train()\n",
    "        # 保存模型参数\n",
    "        paddle.save(model.state_dict(), 'weight/param.pdparams')"
   ]
  },
  {
   "cell_type": "code",
   "execution_count": 9,
   "metadata": {
    "collapsed": false
   },
   "outputs": [
    {
     "name": "stdout",
     "output_type": "stream",
     "text": [
      "start training ... \n",
      "epoch0 accuracy: 0.921679675579071 loss: 0.49973711371421814\n",
      "epoch1 accuracy: 0.926953136920929 loss: 0.45721548795700073\n",
      "epoch2 accuracy: 0.925585925579071 loss: 0.49057644605636597\n",
      "epoch3 accuracy: 0.9283202886581421 loss: 0.4752563536167145\n",
      "epoch4 accuracy: 0.9288085699081421 loss: 0.4636281430721283\n",
      "epoch5 accuracy: 0.9312499761581421 loss: 0.46264395117759705\n",
      "epoch6 accuracy: 0.925585925579071 loss: 0.4772551655769348\n",
      "epoch7 accuracy: 0.927929699420929 loss: 0.4732561707496643\n",
      "epoch8 accuracy: 0.927050769329071 loss: 0.47660940885543823\n",
      "epoch9 accuracy: 0.9278320074081421 loss: 0.4931873381137848\n"
     ]
    }
   ],
   "source": [
    "# 读取训练好的模型参数，需要重新训练注释掉下两行即可\n",
    "model_state_dict = paddle.load('weight/param.pdparams')\n",
    "model.load_dict(model_state_dict)\n",
    "train(model)"
   ]
  },
  {
   "cell_type": "code",
   "execution_count": 10,
   "metadata": {
    "collapsed": false
   },
   "outputs": [
    {
     "name": "stderr",
     "output_type": "stream",
     "text": [
      "/opt/conda/envs/python35-paddle120-env/lib/python3.7/site-packages/matplotlib/cbook/__init__.py:2349: DeprecationWarning: Using or importing the ABCs from 'collections' instead of from 'collections.abc' is deprecated, and in 3.8 it will stop working\n",
      "  if isinstance(obj, collections.Iterator):\n",
      "/opt/conda/envs/python35-paddle120-env/lib/python3.7/site-packages/matplotlib/cbook/__init__.py:2366: DeprecationWarning: Using or importing the ABCs from 'collections' instead of from 'collections.abc' is deprecated, and in 3.8 it will stop working\n",
      "  return list(data) if isinstance(data, collections.MappingView) else data\n"
     ]
    },
    {
     "data": {
      "text/plain": [
       "<matplotlib.legend.Legend at 0x7f3dda196750>"
      ]
     },
     "execution_count": 10,
     "metadata": {},
     "output_type": "execute_result"
    },
    {
     "data": {
      "image/png": "[encoded data removed]",
      "text/plain": [
       "<Figure size 432x288 with 1 Axes>"
      ]
     },
     "metadata": {},
     "output_type": "display_data"
    }
   ],
   "source": [
    "# 可视化\n",
    "plt.plot(val_acc, label = 'validation accuracy')\n",
    "\n",
    "plt.xlabel('Epoch')\n",
    "plt.ylabel('Accuracy')\n",
    "plt.ylim([0.5, 1.0])\n",
    "plt.legend(loc='lower right')"
   ]
  },
  {
   "cell_type": "code",
   "execution_count": null,
   "metadata": {
    "collapsed": false
   },
   "outputs": [],
   "source": [
    "# 查看当前挂载的数据集目录, 该目录下的变更重启环境后会自动还原\n",
    "# View dataset directory. \n",
    "# This directory will be recovered automatically after resetting environment. \n",
    "!ls /home/aistudio/data"
   ]
  },
  {
   "cell_type": "code",
   "execution_count": null,
   "metadata": {
    "collapsed": false
   },
   "outputs": [],
   "source": [
    "# 查看工作区文件, 该目录下的变更将会持久保存. 请及时清理不必要的文件, 避免加载过慢.\n",
    "# View personal work directory. \n",
    "# All changes under this directory will be kept even after reset. \n",
    "# Please clean unnecessary files in time to speed up environment loading. \n",
    "!ls /home/aistudio/work"
   ]
  },
  {
   "cell_type": "code",
   "execution_count": null,
   "metadata": {
    "collapsed": false
   },
   "outputs": [],
   "source": [
    "# 如果需要进行持久化安装, 需要使用持久化路径, 如下方代码示例:\n",
    "# If a persistence installation is required, \n",
    "# you need to use the persistence path as the following: \n",
    "!mkdir /home/aistudio/external-libraries\n",
    "!pip install beautifulsoup4 -t /home/aistudio/external-libraries"
   ]
  },
  {
   "cell_type": "code",
   "execution_count": null,
   "metadata": {
    "collapsed": false
   },
   "outputs": [],
   "source": [
    "# 同时添加如下代码, 这样每次环境(kernel)启动的时候只要运行下方代码即可: \n",
    "# Also add the following code, \n",
    "# so that every time the environment (kernel) starts, \n",
    "# just run the following code: \n",
    "import sys \n",
    "sys.path.append('/home/aistudio/external-libraries')"
   ]
  },
  {
   "cell_type": "markdown",
   "metadata": {
    "collapsed": false
   },
   "source": [
    "请点击[此处](https://ai.baidu.com/docs#/AIStudio_Project_Notebook/a38e5576)查看本环境基本用法.  <br>\n",
    "Please click [here ](https://ai.baidu.com/docs#/AIStudio_Project_Notebook/a38e5576) for more detailed instructions. "
   ]
  }
 ],
 "metadata": {
  "kernelspec": {
   "display_name": "PaddlePaddle 2.0.0b0 (Python 3.5)",
   "language": "python",
   "name": "py35-paddle1.2.0"
  },
  "language_info": {
   "codemirror_mode": {
    "name": "ipython",
    "version": 3
   },
   "file_extension": ".py",
   "mimetype": "text/x-python",
   "name": "python",
   "nbconvert_exporter": "python",
   "pygments_lexer": "ipython3",
   "version": "3.7.4"
  }
 },
 "nbformat": 4,
 "nbformat_minor": 1
}
